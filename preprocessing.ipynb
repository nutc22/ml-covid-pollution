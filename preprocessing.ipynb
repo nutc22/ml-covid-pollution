{
 "cells": [
  {
   "cell_type": "markdown",
   "metadata": {
    "id": "5pP1rui4Gyf7"
   },
   "source": [
    "# Esame\n",
    "#### Daniele Nucciarelli"
   ]
  },
  {
   "cell_type": "code",
   "execution_count": 1,
   "metadata": {
    "tags": []
   },
   "outputs": [],
   "source": [
    "import pandas as pd"
   ]
  },
  {
   "cell_type": "markdown",
   "metadata": {},
   "source": [
    "Lettura del csv dei dati"
   ]
  },
  {
   "cell_type": "code",
   "execution_count": 2,
   "metadata": {
    "tags": []
   },
   "outputs": [],
   "source": [
    "import pandas as pd\n",
    "df = pd.read_csv(\"/home/jovyan/work/data/dataset_exam.csv\", index_col=0)"
   ]
  },
  {
   "cell_type": "code",
   "execution_count": 3,
   "metadata": {
    "tags": []
   },
   "outputs": [
    {
     "data": {
      "text/html": [
       "<div>\n",
       "<style scoped>\n",
       "    .dataframe tbody tr th:only-of-type {\n",
       "        vertical-align: middle;\n",
       "    }\n",
       "\n",
       "    .dataframe tbody tr th {\n",
       "        vertical-align: top;\n",
       "    }\n",
       "\n",
       "    .dataframe thead th {\n",
       "        text-align: right;\n",
       "    }\n",
       "</style>\n",
       "<table border=\"1\" class=\"dataframe\">\n",
       "  <thead>\n",
       "    <tr style=\"text-align: right;\">\n",
       "      <th></th>\n",
       "      <th>City</th>\n",
       "      <th>lat</th>\n",
       "      <th>lng</th>\n",
       "      <th>Population</th>\n",
       "      <th>Density</th>\n",
       "      <th>Surface</th>\n",
       "      <th>Depriv_idx</th>\n",
       "      <th>CovidCases_jan_jun_2020</th>\n",
       "      <th>MaxHospitalized_jan_jun_2020</th>\n",
       "      <th>AvgHospitalized_jan_jun_2020</th>\n",
       "      <th>...</th>\n",
       "      <th>mean_pm10_ug/m3_std_2019</th>\n",
       "      <th>mean_pm10_ug/m3_median_2019</th>\n",
       "      <th>max_pm10_ug/m3_median_2019</th>\n",
       "      <th>max_pm10_ug/m3_mean_2019</th>\n",
       "      <th>max_pm10_ug/m3_std_2019</th>\n",
       "      <th>min_pm10_ug/m3_median_2019</th>\n",
       "      <th>min_pm10_ug/m3_mean_2019</th>\n",
       "      <th>min_pm10_ug/m3_std_2019</th>\n",
       "      <th>Zone</th>\n",
       "      <th>Region</th>\n",
       "    </tr>\n",
       "  </thead>\n",
       "  <tbody>\n",
       "    <tr>\n",
       "      <th>0</th>\n",
       "      <td>Acquasparta</td>\n",
       "      <td>42.691173</td>\n",
       "      <td>12.546451</td>\n",
       "      <td>4611</td>\n",
       "      <td>57.0</td>\n",
       "      <td>81.61</td>\n",
       "      <td>1.013507</td>\n",
       "      <td>6</td>\n",
       "      <td>1</td>\n",
       "      <td>0.273585</td>\n",
       "      <td>...</td>\n",
       "      <td>7.288500</td>\n",
       "      <td>14.674647</td>\n",
       "      <td>27.591324</td>\n",
       "      <td>31.958118</td>\n",
       "      <td>15.960667</td>\n",
       "      <td>6.754477</td>\n",
       "      <td>7.535171</td>\n",
       "      <td>4.595696</td>\n",
       "      <td>collinare e montana</td>\n",
       "      <td>Umbria</td>\n",
       "    </tr>\n",
       "    <tr>\n",
       "      <th>1</th>\n",
       "      <td>Allerona</td>\n",
       "      <td>42.812033</td>\n",
       "      <td>11.973053</td>\n",
       "      <td>1722</td>\n",
       "      <td>21.0</td>\n",
       "      <td>82.61</td>\n",
       "      <td>-1.309272</td>\n",
       "      <td>3</td>\n",
       "      <td>1</td>\n",
       "      <td>0.336735</td>\n",
       "      <td>...</td>\n",
       "      <td>7.038712</td>\n",
       "      <td>14.752206</td>\n",
       "      <td>26.312595</td>\n",
       "      <td>30.565736</td>\n",
       "      <td>18.320679</td>\n",
       "      <td>4.790663</td>\n",
       "      <td>5.623008</td>\n",
       "      <td>3.754214</td>\n",
       "      <td>collinare e montana</td>\n",
       "      <td>Umbria</td>\n",
       "    </tr>\n",
       "    <tr>\n",
       "      <th>2</th>\n",
       "      <td>Alviano</td>\n",
       "      <td>42.588208</td>\n",
       "      <td>12.295936</td>\n",
       "      <td>1428</td>\n",
       "      <td>60.0</td>\n",
       "      <td>23.90</td>\n",
       "      <td>-2.148882</td>\n",
       "      <td>2</td>\n",
       "      <td>1</td>\n",
       "      <td>0.252632</td>\n",
       "      <td>...</td>\n",
       "      <td>8.908002</td>\n",
       "      <td>19.626043</td>\n",
       "      <td>30.008255</td>\n",
       "      <td>34.685780</td>\n",
       "      <td>17.674601</td>\n",
       "      <td>8.948166</td>\n",
       "      <td>9.722944</td>\n",
       "      <td>5.046609</td>\n",
       "      <td>collinare e montana</td>\n",
       "      <td>Umbria</td>\n",
       "    </tr>\n",
       "    <tr>\n",
       "      <th>3</th>\n",
       "      <td>Amelia</td>\n",
       "      <td>42.553528</td>\n",
       "      <td>12.416776</td>\n",
       "      <td>11852</td>\n",
       "      <td>89.0</td>\n",
       "      <td>132.50</td>\n",
       "      <td>-0.832084</td>\n",
       "      <td>5</td>\n",
       "      <td>1</td>\n",
       "      <td>0.317308</td>\n",
       "      <td>...</td>\n",
       "      <td>7.749981</td>\n",
       "      <td>16.706606</td>\n",
       "      <td>31.103338</td>\n",
       "      <td>36.154165</td>\n",
       "      <td>19.364122</td>\n",
       "      <td>7.095291</td>\n",
       "      <td>7.938031</td>\n",
       "      <td>4.636137</td>\n",
       "      <td>collinare e montana</td>\n",
       "      <td>Umbria</td>\n",
       "    </tr>\n",
       "    <tr>\n",
       "      <th>4</th>\n",
       "      <td>Arrone</td>\n",
       "      <td>42.583433</td>\n",
       "      <td>12.769865</td>\n",
       "      <td>2703</td>\n",
       "      <td>66.0</td>\n",
       "      <td>41.04</td>\n",
       "      <td>-0.479919</td>\n",
       "      <td>7</td>\n",
       "      <td>1</td>\n",
       "      <td>0.475728</td>\n",
       "      <td>...</td>\n",
       "      <td>7.416702</td>\n",
       "      <td>12.388708</td>\n",
       "      <td>26.191957</td>\n",
       "      <td>32.194737</td>\n",
       "      <td>20.364874</td>\n",
       "      <td>3.970692</td>\n",
       "      <td>4.888365</td>\n",
       "      <td>4.001205</td>\n",
       "      <td>collinare e montana</td>\n",
       "      <td>Umbria</td>\n",
       "    </tr>\n",
       "  </tbody>\n",
       "</table>\n",
       "<p>5 rows × 36 columns</p>\n",
       "</div>"
      ],
      "text/plain": [
       "          City        lat        lng  Population  Density  Surface   \n",
       "0  Acquasparta  42.691173  12.546451        4611     57.0    81.61  \\\n",
       "1     Allerona  42.812033  11.973053        1722     21.0    82.61   \n",
       "2      Alviano  42.588208  12.295936        1428     60.0    23.90   \n",
       "3       Amelia  42.553528  12.416776       11852     89.0   132.50   \n",
       "4       Arrone  42.583433  12.769865        2703     66.0    41.04   \n",
       "\n",
       "   Depriv_idx  CovidCases_jan_jun_2020  MaxHospitalized_jan_jun_2020   \n",
       "0    1.013507                        6                             1  \\\n",
       "1   -1.309272                        3                             1   \n",
       "2   -2.148882                        2                             1   \n",
       "3   -0.832084                        5                             1   \n",
       "4   -0.479919                        7                             1   \n",
       "\n",
       "   AvgHospitalized_jan_jun_2020  ...  mean_pm10_ug/m3_std_2019   \n",
       "0                      0.273585  ...                  7.288500  \\\n",
       "1                      0.336735  ...                  7.038712   \n",
       "2                      0.252632  ...                  8.908002   \n",
       "3                      0.317308  ...                  7.749981   \n",
       "4                      0.475728  ...                  7.416702   \n",
       "\n",
       "   mean_pm10_ug/m3_median_2019  max_pm10_ug/m3_median_2019   \n",
       "0                    14.674647                   27.591324  \\\n",
       "1                    14.752206                   26.312595   \n",
       "2                    19.626043                   30.008255   \n",
       "3                    16.706606                   31.103338   \n",
       "4                    12.388708                   26.191957   \n",
       "\n",
       "   max_pm10_ug/m3_mean_2019  max_pm10_ug/m3_std_2019   \n",
       "0                 31.958118                15.960667  \\\n",
       "1                 30.565736                18.320679   \n",
       "2                 34.685780                17.674601   \n",
       "3                 36.154165                19.364122   \n",
       "4                 32.194737                20.364874   \n",
       "\n",
       "   min_pm10_ug/m3_median_2019  min_pm10_ug/m3_mean_2019   \n",
       "0                    6.754477                  7.535171  \\\n",
       "1                    4.790663                  5.623008   \n",
       "2                    8.948166                  9.722944   \n",
       "3                    7.095291                  7.938031   \n",
       "4                    3.970692                  4.888365   \n",
       "\n",
       "   min_pm10_ug/m3_std_2019                 Zone  Region  \n",
       "0                 4.595696  collinare e montana  Umbria  \n",
       "1                 3.754214  collinare e montana  Umbria  \n",
       "2                 5.046609  collinare e montana  Umbria  \n",
       "3                 4.636137  collinare e montana  Umbria  \n",
       "4                 4.001205  collinare e montana  Umbria  \n",
       "\n",
       "[5 rows x 36 columns]"
      ]
     },
     "execution_count": 3,
     "metadata": {},
     "output_type": "execute_result"
    }
   ],
   "source": [
    "df.head()"
   ]
  },
  {
   "cell_type": "code",
   "execution_count": 4,
   "metadata": {},
   "outputs": [
    {
     "data": {
      "text/plain": [
       "Index(['City', 'lat', 'lng', 'Population', 'Density', 'Surface', 'Depriv_idx',\n",
       "       'CovidCases_jan_jun_2020', 'MaxHospitalized_jan_jun_2020',\n",
       "       'AvgHospitalized_jan_jun_2020', 'Deceased_jan_jun_2020',\n",
       "       'MaxIntensiveCare_jan_jun_2020', 'AvgIntensiveCare_jan_jun_2020',\n",
       "       'mean_pm10_ug/m3_mean_jan_jun_2020', 'mean_pm10_ug/m3_std_jan_jun_2020',\n",
       "       'mean_pm10_ug/m3_median_jan_jun_2020',\n",
       "       'max_pm10_ug/m3_mean_jan_jun_2020', 'max_pm10_ug/m3_std_jan_jun_2020',\n",
       "       'max_pm10_ug/m3_median_jan_jun_2020',\n",
       "       'min_pm10_ug/m3_mean_jan_jun_2020', 'min_pm10_ug/m3_std_jan_jun_2020',\n",
       "       'min_pm10_ug/m3_median_jan_jun_2020',\n",
       "       'mean_pm10_ug/m3_mean_jan_jun_2020.1',\n",
       "       'mean_pm10_ug/m3_std_jan_jun_2020.1',\n",
       "       'mean_pm10_ug/m3_median_jan_jun_2020.1', 'mean_pm10_ug/m3_mean_2019',\n",
       "       'mean_pm10_ug/m3_std_2019', 'mean_pm10_ug/m3_median_2019',\n",
       "       'max_pm10_ug/m3_median_2019', 'max_pm10_ug/m3_mean_2019',\n",
       "       'max_pm10_ug/m3_std_2019', 'min_pm10_ug/m3_median_2019',\n",
       "       'min_pm10_ug/m3_mean_2019', 'min_pm10_ug/m3_std_2019', 'Zone',\n",
       "       'Region'],\n",
       "      dtype='object')"
      ]
     },
     "execution_count": 4,
     "metadata": {},
     "output_type": "execute_result"
    }
   ],
   "source": [
    "df.columns"
   ]
  },
  {
   "cell_type": "code",
   "execution_count": 5,
   "metadata": {
    "tags": []
   },
   "outputs": [
    {
     "data": {
      "text/html": [
       "<div>\n",
       "<style scoped>\n",
       "    .dataframe tbody tr th:only-of-type {\n",
       "        vertical-align: middle;\n",
       "    }\n",
       "\n",
       "    .dataframe tbody tr th {\n",
       "        vertical-align: top;\n",
       "    }\n",
       "\n",
       "    .dataframe thead th {\n",
       "        text-align: right;\n",
       "    }\n",
       "</style>\n",
       "<table border=\"1\" class=\"dataframe\">\n",
       "  <thead>\n",
       "    <tr style=\"text-align: right;\">\n",
       "      <th></th>\n",
       "      <th>lat</th>\n",
       "      <th>lng</th>\n",
       "      <th>Population</th>\n",
       "      <th>Density</th>\n",
       "      <th>Surface</th>\n",
       "      <th>Depriv_idx</th>\n",
       "      <th>CovidCases_jan_jun_2020</th>\n",
       "      <th>MaxHospitalized_jan_jun_2020</th>\n",
       "      <th>AvgHospitalized_jan_jun_2020</th>\n",
       "      <th>Deceased_jan_jun_2020</th>\n",
       "      <th>...</th>\n",
       "      <th>mean_pm10_ug/m3_median_jan_jun_2020.1</th>\n",
       "      <th>mean_pm10_ug/m3_mean_2019</th>\n",
       "      <th>mean_pm10_ug/m3_std_2019</th>\n",
       "      <th>mean_pm10_ug/m3_median_2019</th>\n",
       "      <th>max_pm10_ug/m3_median_2019</th>\n",
       "      <th>max_pm10_ug/m3_mean_2019</th>\n",
       "      <th>max_pm10_ug/m3_std_2019</th>\n",
       "      <th>min_pm10_ug/m3_median_2019</th>\n",
       "      <th>min_pm10_ug/m3_mean_2019</th>\n",
       "      <th>min_pm10_ug/m3_std_2019</th>\n",
       "    </tr>\n",
       "  </thead>\n",
       "  <tbody>\n",
       "    <tr>\n",
       "      <th>count</th>\n",
       "      <td>92.000000</td>\n",
       "      <td>92.000000</td>\n",
       "      <td>92.000000</td>\n",
       "      <td>92.000000</td>\n",
       "      <td>92.000000</td>\n",
       "      <td>92.000000</td>\n",
       "      <td>92.000000</td>\n",
       "      <td>92.000000</td>\n",
       "      <td>92.000000</td>\n",
       "      <td>92.000000</td>\n",
       "      <td>...</td>\n",
       "      <td>92.000000</td>\n",
       "      <td>92.000000</td>\n",
       "      <td>92.000000</td>\n",
       "      <td>92.000000</td>\n",
       "      <td>92.000000</td>\n",
       "      <td>92.000000</td>\n",
       "      <td>92.000000</td>\n",
       "      <td>92.000000</td>\n",
       "      <td>92.000000</td>\n",
       "      <td>91.000000</td>\n",
       "    </tr>\n",
       "    <tr>\n",
       "      <th>mean</th>\n",
       "      <td>42.905182</td>\n",
       "      <td>12.472221</td>\n",
       "      <td>9568.315217</td>\n",
       "      <td>89.459565</td>\n",
       "      <td>92.003804</td>\n",
       "      <td>-0.455099</td>\n",
       "      <td>15.054348</td>\n",
       "      <td>2.673913</td>\n",
       "      <td>0.801545</td>\n",
       "      <td>0.826087</td>\n",
       "      <td>...</td>\n",
       "      <td>14.475831</td>\n",
       "      <td>16.430487</td>\n",
       "      <td>7.788327</td>\n",
       "      <td>14.892218</td>\n",
       "      <td>26.885255</td>\n",
       "      <td>31.688390</td>\n",
       "      <td>17.816801</td>\n",
       "      <td>6.811227</td>\n",
       "      <td>7.711917</td>\n",
       "      <td>4.654767</td>\n",
       "    </tr>\n",
       "    <tr>\n",
       "      <th>std</th>\n",
       "      <td>0.273627</td>\n",
       "      <td>0.292700</td>\n",
       "      <td>22012.983364</td>\n",
       "      <td>108.091455</td>\n",
       "      <td>96.297586</td>\n",
       "      <td>1.357775</td>\n",
       "      <td>39.688447</td>\n",
       "      <td>6.293392</td>\n",
       "      <td>1.988844</td>\n",
       "      <td>2.094518</td>\n",
       "      <td>...</td>\n",
       "      <td>3.014723</td>\n",
       "      <td>2.620349</td>\n",
       "      <td>0.571131</td>\n",
       "      <td>2.769346</td>\n",
       "      <td>4.958767</td>\n",
       "      <td>5.724870</td>\n",
       "      <td>4.342591</td>\n",
       "      <td>2.446697</td>\n",
       "      <td>2.315385</td>\n",
       "      <td>0.580559</td>\n",
       "    </tr>\n",
       "    <tr>\n",
       "      <th>min</th>\n",
       "      <td>42.403124</td>\n",
       "      <td>11.973053</td>\n",
       "      <td>96.000000</td>\n",
       "      <td>2.390000</td>\n",
       "      <td>10.000000</td>\n",
       "      <td>-5.251338</td>\n",
       "      <td>0.000000</td>\n",
       "      <td>0.000000</td>\n",
       "      <td>0.000000</td>\n",
       "      <td>0.000000</td>\n",
       "      <td>...</td>\n",
       "      <td>7.420084</td>\n",
       "      <td>10.744741</td>\n",
       "      <td>6.939437</td>\n",
       "      <td>8.817261</td>\n",
       "      <td>16.463018</td>\n",
       "      <td>20.667668</td>\n",
       "      <td>11.513608</td>\n",
       "      <td>2.064677</td>\n",
       "      <td>3.186399</td>\n",
       "      <td>3.456098</td>\n",
       "    </tr>\n",
       "    <tr>\n",
       "      <th>25%</th>\n",
       "      <td>42.703714</td>\n",
       "      <td>12.234268</td>\n",
       "      <td>1573.750000</td>\n",
       "      <td>32.000000</td>\n",
       "      <td>35.735000</td>\n",
       "      <td>-1.204914</td>\n",
       "      <td>0.000000</td>\n",
       "      <td>0.000000</td>\n",
       "      <td>0.000000</td>\n",
       "      <td>0.000000</td>\n",
       "      <td>...</td>\n",
       "      <td>12.673209</td>\n",
       "      <td>14.608065</td>\n",
       "      <td>7.387661</td>\n",
       "      <td>12.719118</td>\n",
       "      <td>24.180037</td>\n",
       "      <td>28.689235</td>\n",
       "      <td>15.211227</td>\n",
       "      <td>4.708499</td>\n",
       "      <td>5.667794</td>\n",
       "      <td>4.339893</td>\n",
       "    </tr>\n",
       "    <tr>\n",
       "      <th>50%</th>\n",
       "      <td>42.873417</td>\n",
       "      <td>12.481221</td>\n",
       "      <td>2946.500000</td>\n",
       "      <td>66.500000</td>\n",
       "      <td>58.935000</td>\n",
       "      <td>-0.492604</td>\n",
       "      <td>5.000000</td>\n",
       "      <td>1.000000</td>\n",
       "      <td>0.185896</td>\n",
       "      <td>0.000000</td>\n",
       "      <td>...</td>\n",
       "      <td>15.098714</td>\n",
       "      <td>16.623700</td>\n",
       "      <td>7.648703</td>\n",
       "      <td>15.328800</td>\n",
       "      <td>26.361343</td>\n",
       "      <td>30.668131</td>\n",
       "      <td>16.763086</td>\n",
       "      <td>6.894947</td>\n",
       "      <td>7.793400</td>\n",
       "      <td>4.710882</td>\n",
       "    </tr>\n",
       "    <tr>\n",
       "      <th>75%</th>\n",
       "      <td>43.073766</td>\n",
       "      <td>12.718593</td>\n",
       "      <td>6913.500000</td>\n",
       "      <td>108.000000</td>\n",
       "      <td>97.267500</td>\n",
       "      <td>0.351280</td>\n",
       "      <td>11.000000</td>\n",
       "      <td>3.000000</td>\n",
       "      <td>0.853774</td>\n",
       "      <td>1.000000</td>\n",
       "      <td>...</td>\n",
       "      <td>16.377223</td>\n",
       "      <td>18.087417</td>\n",
       "      <td>8.057968</td>\n",
       "      <td>16.689253</td>\n",
       "      <td>28.995770</td>\n",
       "      <td>34.065552</td>\n",
       "      <td>19.255928</td>\n",
       "      <td>8.779966</td>\n",
       "      <td>9.510887</td>\n",
       "      <td>4.934252</td>\n",
       "    </tr>\n",
       "    <tr>\n",
       "      <th>max</th>\n",
       "      <td>43.548980</td>\n",
       "      <td>13.092928</td>\n",
       "      <td>166969.000000</td>\n",
       "      <td>787.000000</td>\n",
       "      <td>525.780000</td>\n",
       "      <td>2.872051</td>\n",
       "      <td>332.000000</td>\n",
       "      <td>51.000000</td>\n",
       "      <td>14.971698</td>\n",
       "      <td>14.000000</td>\n",
       "      <td>...</td>\n",
       "      <td>21.254544</td>\n",
       "      <td>22.373268</td>\n",
       "      <td>9.674192</td>\n",
       "      <td>20.719354</td>\n",
       "      <td>48.968746</td>\n",
       "      <td>56.453095</td>\n",
       "      <td>35.787022</td>\n",
       "      <td>11.958206</td>\n",
       "      <td>12.722304</td>\n",
       "      <td>6.477983</td>\n",
       "    </tr>\n",
       "  </tbody>\n",
       "</table>\n",
       "<p>8 rows × 33 columns</p>\n",
       "</div>"
      ],
      "text/plain": [
       "             lat        lng     Population     Density     Surface   \n",
       "count  92.000000  92.000000      92.000000   92.000000   92.000000  \\\n",
       "mean   42.905182  12.472221    9568.315217   89.459565   92.003804   \n",
       "std     0.273627   0.292700   22012.983364  108.091455   96.297586   \n",
       "min    42.403124  11.973053      96.000000    2.390000   10.000000   \n",
       "25%    42.703714  12.234268    1573.750000   32.000000   35.735000   \n",
       "50%    42.873417  12.481221    2946.500000   66.500000   58.935000   \n",
       "75%    43.073766  12.718593    6913.500000  108.000000   97.267500   \n",
       "max    43.548980  13.092928  166969.000000  787.000000  525.780000   \n",
       "\n",
       "       Depriv_idx  CovidCases_jan_jun_2020  MaxHospitalized_jan_jun_2020   \n",
       "count   92.000000                92.000000                     92.000000  \\\n",
       "mean    -0.455099                15.054348                      2.673913   \n",
       "std      1.357775                39.688447                      6.293392   \n",
       "min     -5.251338                 0.000000                      0.000000   \n",
       "25%     -1.204914                 0.000000                      0.000000   \n",
       "50%     -0.492604                 5.000000                      1.000000   \n",
       "75%      0.351280                11.000000                      3.000000   \n",
       "max      2.872051               332.000000                     51.000000   \n",
       "\n",
       "       AvgHospitalized_jan_jun_2020  Deceased_jan_jun_2020  ...   \n",
       "count                     92.000000              92.000000  ...  \\\n",
       "mean                       0.801545               0.826087  ...   \n",
       "std                        1.988844               2.094518  ...   \n",
       "min                        0.000000               0.000000  ...   \n",
       "25%                        0.000000               0.000000  ...   \n",
       "50%                        0.185896               0.000000  ...   \n",
       "75%                        0.853774               1.000000  ...   \n",
       "max                       14.971698              14.000000  ...   \n",
       "\n",
       "       mean_pm10_ug/m3_median_jan_jun_2020.1  mean_pm10_ug/m3_mean_2019   \n",
       "count                              92.000000                  92.000000  \\\n",
       "mean                               14.475831                  16.430487   \n",
       "std                                 3.014723                   2.620349   \n",
       "min                                 7.420084                  10.744741   \n",
       "25%                                12.673209                  14.608065   \n",
       "50%                                15.098714                  16.623700   \n",
       "75%                                16.377223                  18.087417   \n",
       "max                                21.254544                  22.373268   \n",
       "\n",
       "       mean_pm10_ug/m3_std_2019  mean_pm10_ug/m3_median_2019   \n",
       "count                 92.000000                    92.000000  \\\n",
       "mean                   7.788327                    14.892218   \n",
       "std                    0.571131                     2.769346   \n",
       "min                    6.939437                     8.817261   \n",
       "25%                    7.387661                    12.719118   \n",
       "50%                    7.648703                    15.328800   \n",
       "75%                    8.057968                    16.689253   \n",
       "max                    9.674192                    20.719354   \n",
       "\n",
       "       max_pm10_ug/m3_median_2019  max_pm10_ug/m3_mean_2019   \n",
       "count                   92.000000                 92.000000  \\\n",
       "mean                    26.885255                 31.688390   \n",
       "std                      4.958767                  5.724870   \n",
       "min                     16.463018                 20.667668   \n",
       "25%                     24.180037                 28.689235   \n",
       "50%                     26.361343                 30.668131   \n",
       "75%                     28.995770                 34.065552   \n",
       "max                     48.968746                 56.453095   \n",
       "\n",
       "       max_pm10_ug/m3_std_2019  min_pm10_ug/m3_median_2019   \n",
       "count                92.000000                   92.000000  \\\n",
       "mean                 17.816801                    6.811227   \n",
       "std                   4.342591                    2.446697   \n",
       "min                  11.513608                    2.064677   \n",
       "25%                  15.211227                    4.708499   \n",
       "50%                  16.763086                    6.894947   \n",
       "75%                  19.255928                    8.779966   \n",
       "max                  35.787022                   11.958206   \n",
       "\n",
       "       min_pm10_ug/m3_mean_2019  min_pm10_ug/m3_std_2019  \n",
       "count                 92.000000                91.000000  \n",
       "mean                   7.711917                 4.654767  \n",
       "std                    2.315385                 0.580559  \n",
       "min                    3.186399                 3.456098  \n",
       "25%                    5.667794                 4.339893  \n",
       "50%                    7.793400                 4.710882  \n",
       "75%                    9.510887                 4.934252  \n",
       "max                   12.722304                 6.477983  \n",
       "\n",
       "[8 rows x 33 columns]"
      ]
     },
     "execution_count": 5,
     "metadata": {},
     "output_type": "execute_result"
    }
   ],
   "source": [
    "df.describe()"
   ]
  },
  {
   "cell_type": "markdown",
   "metadata": {
    "id": "XwSMvifCFCiV"
   },
   "source": [
    "## Pre-processing\n",
    "\n",
    "\n"
   ]
  },
  {
   "cell_type": "markdown",
   "metadata": {
    "tags": []
   },
   "source": [
    "### Valori mancanti"
   ]
  },
  {
   "cell_type": "code",
   "execution_count": 6,
   "metadata": {
    "tags": []
   },
   "outputs": [
    {
     "data": {
      "text/plain": [
       "City                                     0\n",
       "lat                                      0\n",
       "lng                                      0\n",
       "Population                               0\n",
       "Density                                  0\n",
       "Surface                                  0\n",
       "Depriv_idx                               0\n",
       "CovidCases_jan_jun_2020                  0\n",
       "MaxHospitalized_jan_jun_2020             0\n",
       "AvgHospitalized_jan_jun_2020             0\n",
       "Deceased_jan_jun_2020                    0\n",
       "MaxIntensiveCare_jan_jun_2020            0\n",
       "AvgIntensiveCare_jan_jun_2020            0\n",
       "mean_pm10_ug/m3_mean_jan_jun_2020        0\n",
       "mean_pm10_ug/m3_std_jan_jun_2020         0\n",
       "mean_pm10_ug/m3_median_jan_jun_2020      0\n",
       "max_pm10_ug/m3_mean_jan_jun_2020         0\n",
       "max_pm10_ug/m3_std_jan_jun_2020          0\n",
       "max_pm10_ug/m3_median_jan_jun_2020       0\n",
       "min_pm10_ug/m3_mean_jan_jun_2020         0\n",
       "min_pm10_ug/m3_std_jan_jun_2020          0\n",
       "min_pm10_ug/m3_median_jan_jun_2020       0\n",
       "mean_pm10_ug/m3_mean_jan_jun_2020.1      0\n",
       "mean_pm10_ug/m3_std_jan_jun_2020.1       0\n",
       "mean_pm10_ug/m3_median_jan_jun_2020.1    0\n",
       "mean_pm10_ug/m3_mean_2019                0\n",
       "mean_pm10_ug/m3_std_2019                 0\n",
       "mean_pm10_ug/m3_median_2019              0\n",
       "max_pm10_ug/m3_median_2019               0\n",
       "max_pm10_ug/m3_mean_2019                 0\n",
       "max_pm10_ug/m3_std_2019                  0\n",
       "min_pm10_ug/m3_median_2019               0\n",
       "min_pm10_ug/m3_mean_2019                 0\n",
       "min_pm10_ug/m3_std_2019                  1\n",
       "Zone                                     0\n",
       "Region                                   1\n",
       "dtype: int64"
      ]
     },
     "execution_count": 6,
     "metadata": {},
     "output_type": "execute_result"
    }
   ],
   "source": [
    "pd.isnull(df).sum()"
   ]
  },
  {
   "cell_type": "markdown",
   "metadata": {
    "tags": []
   },
   "source": [
    "Sono presenti dei valori mancanti nelle colonne Region e min_pm10_ug/m3_std_2019."
   ]
  },
  {
   "cell_type": "markdown",
   "metadata": {
    "tags": []
   },
   "source": [
    "#### Valore mancante nella colonna Region\n"
   ]
  },
  {
   "cell_type": "code",
   "execution_count": 7,
   "metadata": {
    "tags": []
   },
   "outputs": [
    {
     "data": {
      "text/html": [
       "<div>\n",
       "<style scoped>\n",
       "    .dataframe tbody tr th:only-of-type {\n",
       "        vertical-align: middle;\n",
       "    }\n",
       "\n",
       "    .dataframe tbody tr th {\n",
       "        vertical-align: top;\n",
       "    }\n",
       "\n",
       "    .dataframe thead th {\n",
       "        text-align: right;\n",
       "    }\n",
       "</style>\n",
       "<table border=\"1\" class=\"dataframe\">\n",
       "  <thead>\n",
       "    <tr style=\"text-align: right;\">\n",
       "      <th></th>\n",
       "      <th>City</th>\n",
       "      <th>lat</th>\n",
       "      <th>lng</th>\n",
       "      <th>Population</th>\n",
       "      <th>Density</th>\n",
       "      <th>Surface</th>\n",
       "      <th>Depriv_idx</th>\n",
       "      <th>CovidCases_jan_jun_2020</th>\n",
       "      <th>MaxHospitalized_jan_jun_2020</th>\n",
       "      <th>AvgHospitalized_jan_jun_2020</th>\n",
       "      <th>...</th>\n",
       "      <th>mean_pm10_ug/m3_std_2019</th>\n",
       "      <th>mean_pm10_ug/m3_median_2019</th>\n",
       "      <th>max_pm10_ug/m3_median_2019</th>\n",
       "      <th>max_pm10_ug/m3_mean_2019</th>\n",
       "      <th>max_pm10_ug/m3_std_2019</th>\n",
       "      <th>min_pm10_ug/m3_median_2019</th>\n",
       "      <th>min_pm10_ug/m3_mean_2019</th>\n",
       "      <th>min_pm10_ug/m3_std_2019</th>\n",
       "      <th>Zone</th>\n",
       "      <th>Region</th>\n",
       "    </tr>\n",
       "  </thead>\n",
       "  <tbody>\n",
       "    <tr>\n",
       "      <th>80</th>\n",
       "      <td>Spello</td>\n",
       "      <td>42.990945</td>\n",
       "      <td>12.671775</td>\n",
       "      <td>8464</td>\n",
       "      <td>137.0</td>\n",
       "      <td>61.65</td>\n",
       "      <td>-0.730392</td>\n",
       "      <td>7</td>\n",
       "      <td>2</td>\n",
       "      <td>0.608247</td>\n",
       "      <td>...</td>\n",
       "      <td>7.861205</td>\n",
       "      <td>15.591546</td>\n",
       "      <td>27.833431</td>\n",
       "      <td>32.547284</td>\n",
       "      <td>18.056519</td>\n",
       "      <td>4.850987</td>\n",
       "      <td>6.058144</td>\n",
       "      <td>4.58133</td>\n",
       "      <td>di valle</td>\n",
       "      <td>NaN</td>\n",
       "    </tr>\n",
       "  </tbody>\n",
       "</table>\n",
       "<p>1 rows × 36 columns</p>\n",
       "</div>"
      ],
      "text/plain": [
       "      City        lat        lng  Population  Density  Surface  Depriv_idx   \n",
       "80  Spello  42.990945  12.671775        8464    137.0    61.65   -0.730392  \\\n",
       "\n",
       "    CovidCases_jan_jun_2020  MaxHospitalized_jan_jun_2020   \n",
       "80                        7                             2  \\\n",
       "\n",
       "    AvgHospitalized_jan_jun_2020  ...  mean_pm10_ug/m3_std_2019   \n",
       "80                      0.608247  ...                  7.861205  \\\n",
       "\n",
       "    mean_pm10_ug/m3_median_2019  max_pm10_ug/m3_median_2019   \n",
       "80                    15.591546                   27.833431  \\\n",
       "\n",
       "    max_pm10_ug/m3_mean_2019  max_pm10_ug/m3_std_2019   \n",
       "80                 32.547284                18.056519  \\\n",
       "\n",
       "    min_pm10_ug/m3_median_2019  min_pm10_ug/m3_mean_2019   \n",
       "80                    4.850987                  6.058144  \\\n",
       "\n",
       "    min_pm10_ug/m3_std_2019      Zone  Region  \n",
       "80                  4.58133  di valle     NaN  \n",
       "\n",
       "[1 rows x 36 columns]"
      ]
     },
     "execution_count": 7,
     "metadata": {},
     "output_type": "execute_result"
    }
   ],
   "source": [
    "df.loc[df[\"Region\"].isnull()]"
   ]
  },
  {
   "cell_type": "markdown",
   "metadata": {},
   "source": [
    "Spello è un comune umbro; in effetti anche tutti gli altri campionamenti sono stati effettuati in Umbria:"
   ]
  },
  {
   "cell_type": "code",
   "execution_count": 8,
   "metadata": {
    "tags": []
   },
   "outputs": [
    {
     "data": {
      "text/plain": [
       "Region\n",
       "Umbria    91\n",
       "Name: Region, dtype: int64"
      ]
     },
     "execution_count": 8,
     "metadata": {},
     "output_type": "execute_result"
    }
   ],
   "source": [
    "df.groupby('Region').Region.count()"
   ]
  },
  {
   "cell_type": "markdown",
   "metadata": {
    "tags": []
   },
   "source": [
    "Pertanto si può eliminare questa colonna perché non aggiunge informazione allo specifico campionamento"
   ]
  },
  {
   "cell_type": "code",
   "execution_count": 9,
   "metadata": {
    "tags": []
   },
   "outputs": [],
   "source": [
    "df.drop('Region', axis=1, inplace=True)"
   ]
  },
  {
   "cell_type": "markdown",
   "metadata": {
    "tags": []
   },
   "source": [
    "#### Valore mancante nella colonna min_pm10_ug/m3_std_2019"
   ]
  },
  {
   "cell_type": "markdown",
   "metadata": {},
   "source": [
    "I valori di questa colonna rappresentano il valore minimo espresso in μg/m3 della deviazione standard giornaliera di pm10 rilevato nel 2019"
   ]
  },
  {
   "cell_type": "code",
   "execution_count": 10,
   "metadata": {
    "tags": []
   },
   "outputs": [
    {
     "data": {
      "text/html": [
       "<div>\n",
       "<style scoped>\n",
       "    .dataframe tbody tr th:only-of-type {\n",
       "        vertical-align: middle;\n",
       "    }\n",
       "\n",
       "    .dataframe tbody tr th {\n",
       "        vertical-align: top;\n",
       "    }\n",
       "\n",
       "    .dataframe thead th {\n",
       "        text-align: right;\n",
       "    }\n",
       "</style>\n",
       "<table border=\"1\" class=\"dataframe\">\n",
       "  <thead>\n",
       "    <tr style=\"text-align: right;\">\n",
       "      <th></th>\n",
       "      <th>City</th>\n",
       "      <th>lat</th>\n",
       "      <th>lng</th>\n",
       "      <th>Population</th>\n",
       "      <th>Density</th>\n",
       "      <th>Surface</th>\n",
       "      <th>Depriv_idx</th>\n",
       "      <th>CovidCases_jan_jun_2020</th>\n",
       "      <th>MaxHospitalized_jan_jun_2020</th>\n",
       "      <th>AvgHospitalized_jan_jun_2020</th>\n",
       "      <th>...</th>\n",
       "      <th>mean_pm10_ug/m3_mean_2019</th>\n",
       "      <th>mean_pm10_ug/m3_std_2019</th>\n",
       "      <th>mean_pm10_ug/m3_median_2019</th>\n",
       "      <th>max_pm10_ug/m3_median_2019</th>\n",
       "      <th>max_pm10_ug/m3_mean_2019</th>\n",
       "      <th>max_pm10_ug/m3_std_2019</th>\n",
       "      <th>min_pm10_ug/m3_median_2019</th>\n",
       "      <th>min_pm10_ug/m3_mean_2019</th>\n",
       "      <th>min_pm10_ug/m3_std_2019</th>\n",
       "      <th>Zone</th>\n",
       "    </tr>\n",
       "  </thead>\n",
       "  <tbody>\n",
       "    <tr>\n",
       "      <th>45</th>\n",
       "      <td>Monte_Castello_di_Vibio</td>\n",
       "      <td>42.840694</td>\n",
       "      <td>12.352286</td>\n",
       "      <td>1504</td>\n",
       "      <td>47.0</td>\n",
       "      <td>31.95</td>\n",
       "      <td>-1.138733</td>\n",
       "      <td>0</td>\n",
       "      <td>0</td>\n",
       "      <td>0.0</td>\n",
       "      <td>...</td>\n",
       "      <td>17.468114</td>\n",
       "      <td>7.535464</td>\n",
       "      <td>16.200014</td>\n",
       "      <td>26.999504</td>\n",
       "      <td>30.651951</td>\n",
       "      <td>15.562025</td>\n",
       "      <td>8.564888</td>\n",
       "      <td>9.239437</td>\n",
       "      <td>NaN</td>\n",
       "      <td>collinare e montana</td>\n",
       "    </tr>\n",
       "  </tbody>\n",
       "</table>\n",
       "<p>1 rows × 35 columns</p>\n",
       "</div>"
      ],
      "text/plain": [
       "                       City        lat        lng  Population  Density   \n",
       "45  Monte_Castello_di_Vibio  42.840694  12.352286        1504     47.0  \\\n",
       "\n",
       "    Surface  Depriv_idx  CovidCases_jan_jun_2020   \n",
       "45    31.95   -1.138733                        0  \\\n",
       "\n",
       "    MaxHospitalized_jan_jun_2020  AvgHospitalized_jan_jun_2020  ...   \n",
       "45                             0                           0.0  ...  \\\n",
       "\n",
       "    mean_pm10_ug/m3_mean_2019  mean_pm10_ug/m3_std_2019   \n",
       "45                  17.468114                  7.535464  \\\n",
       "\n",
       "    mean_pm10_ug/m3_median_2019  max_pm10_ug/m3_median_2019   \n",
       "45                    16.200014                   26.999504  \\\n",
       "\n",
       "    max_pm10_ug/m3_mean_2019  max_pm10_ug/m3_std_2019   \n",
       "45                 30.651951                15.562025  \\\n",
       "\n",
       "    min_pm10_ug/m3_median_2019  min_pm10_ug/m3_mean_2019   \n",
       "45                    8.564888                  9.239437  \\\n",
       "\n",
       "    min_pm10_ug/m3_std_2019                 Zone  \n",
       "45                      NaN  collinare e montana  \n",
       "\n",
       "[1 rows x 35 columns]"
      ]
     },
     "execution_count": 10,
     "metadata": {},
     "output_type": "execute_result"
    }
   ],
   "source": [
    "df.loc[df[\"min_pm10_ug/m3_std_2019\"].isnull()]"
   ]
  },
  {
   "cell_type": "markdown",
   "metadata": {},
   "source": [
    "Droppare l'intera entry mi sembra esagerato. Fillarla con un valore... potrei metterci il valore del 2020, oppure una media delle std degli altri comuni, oppure lasciare NaN"
   ]
  },
  {
   "cell_type": "markdown",
   "metadata": {
    "tags": []
   },
   "source": [
    "#### Eliminare colonne inutili"
   ]
  },
  {
   "cell_type": "markdown",
   "metadata": {},
   "source": [
    "Si ricordi il numero di entries del dataset:"
   ]
  },
  {
   "cell_type": "code",
   "execution_count": 11,
   "metadata": {
    "tags": []
   },
   "outputs": [
    {
     "data": {
      "text/plain": [
       "92"
      ]
     },
     "execution_count": 11,
     "metadata": {},
     "output_type": "execute_result"
    }
   ],
   "source": [
    "len(df)"
   ]
  },
  {
   "cell_type": "markdown",
   "metadata": {},
   "source": [
    "Sono presenti delle colonne \\(nominate \"*.1\"\\) le cui descrizioni non sono presenti nella feature description. Con il sospetto che si tratti di colonne duplicate, si confrontano queste colonne con altre e si nota che:"
   ]
  },
  {
   "cell_type": "code",
   "execution_count": 12,
   "metadata": {
    "tags": []
   },
   "outputs": [
    {
     "data": {
      "text/plain": [
       "92"
      ]
     },
     "execution_count": 12,
     "metadata": {},
     "output_type": "execute_result"
    }
   ],
   "source": [
    "(df[\"mean_pm10_ug/m3_mean_jan_jun_2020\"]==df[\"mean_pm10_ug/m3_mean_jan_jun_2020.1\"]).sum()"
   ]
  },
  {
   "cell_type": "code",
   "execution_count": 13,
   "metadata": {
    "tags": []
   },
   "outputs": [
    {
     "data": {
      "text/plain": [
       "92"
      ]
     },
     "execution_count": 13,
     "metadata": {},
     "output_type": "execute_result"
    }
   ],
   "source": [
    "(df[\"mean_pm10_ug/m3_std_jan_jun_2020\"]==df[\"mean_pm10_ug/m3_std_jan_jun_2020.1\"]).sum()"
   ]
  },
  {
   "cell_type": "code",
   "execution_count": 14,
   "metadata": {
    "tags": []
   },
   "outputs": [
    {
     "data": {
      "text/plain": [
       "92"
      ]
     },
     "execution_count": 14,
     "metadata": {},
     "output_type": "execute_result"
    }
   ],
   "source": [
    "(df[\"mean_pm10_ug/m3_median_jan_jun_2020\"]==df[\"mean_pm10_ug/m3_median_jan_jun_2020.1\"]).sum()"
   ]
  },
  {
   "cell_type": "markdown",
   "metadata": {},
   "source": [
    "ovvero per ognuna delle tre colonne, la pd.Series data dal confronto tra due colonne potenzialmente coincidenti è costituita da 92 True, pari al numero di entries.\n",
    "Pertanto si possono rimuovere le suddette colonne:"
   ]
  },
  {
   "cell_type": "code",
   "execution_count": 16,
   "metadata": {},
   "outputs": [],
   "source": [
    "df.drop(\n",
    "    columns=[\n",
    "    \"mean_pm10_ug/m3_mean_jan_jun_2020.1\",\n",
    "    \"mean_pm10_ug/m3_std_jan_jun_2020.1\",\n",
    "    \"mean_pm10_ug/m3_median_jan_jun_2020.1\"\n",
    "    ], \n",
    "    inplace=True\n",
    ")"
   ]
  },
  {
   "cell_type": "markdown",
   "metadata": {},
   "source": [
    "In conclusione, il pd.Dataframe pre-processato presenta 4 colonne in meno del pd.Dataframe di partenza:"
   ]
  },
  {
   "cell_type": "code",
   "execution_count": 20,
   "metadata": {
    "tags": []
   },
   "outputs": [
    {
     "data": {
      "text/plain": [
       "(92, 32)"
      ]
     },
     "execution_count": 20,
     "metadata": {},
     "output_type": "execute_result"
    }
   ],
   "source": [
    "df.shape"
   ]
  },
  {
   "cell_type": "markdown",
   "metadata": {
    "id": "UojSJP7bHC2P"
   },
   "source": [
    "### Plots\n",
    "\n",
    "3. Creare due grafici che mettono in relazioni variabili relative a demografia, epidemiologia e geografia del territorio.\n",
    "\n",
    "  3.1 (**Extra**)\n",
    "\n",
    "  * inserire nelle tooltip il nome della città;\n",
    "  * creare un plot dove la terza feature da mettere in relazione è selezionabile a piacere tra le colonne del data frame. Sugli assi principali si trovano rispettivamente Population e Density.\n",
    "\n",
    "4. Correlazione: studia la correlazione lineare tra le feature\n",
    "\n",
    "5. Maps (**Extra**): creare due esempi di grafici su mappa con delle colonne e punti che rappresentano delle informazioni sul territorio.\n",
    "\n",
    "  5.1 *Show Density*: la colonna rappresenta la densità. Questa viene confermata dal colore, rosso dove la densità è più alta. Il colore utilizza le colonne Population e Surface.\n",
    "\n",
    "  Le colonne devono prensentare come informazioni aggiuntive i seguenti dettagli:\n",
    "  * Città\n",
    "  * Densità\n",
    "  * Popolazione \n",
    "  * Superfice\n",
    "\n",
    "  5.2 *Show CovidCases*: la colonna rappresenta il numero di casi Covid. Il colore viene composto in base ai decessi, il numero medio di casi intensivi e numero medio di casi ospitalizzati. I decessi danno alla colonna un colore rosso.\n",
    "\n",
    "  Le colonne devono prensentare come informazioni aggiuntive i seguenti dettagli:\n",
    "  * Città\n",
    "  * \\# casi covid\n",
    "  * avg. intensive care \n",
    "  * avg. hospitalized\n",
    "\n",
    "\n"
   ]
  },
  {
   "cell_type": "markdown",
   "metadata": {
    "id": "_bNQ7vmSHO30"
   },
   "source": [
    "## Modeling"
   ]
  },
  {
   "cell_type": "markdown",
   "metadata": {
    "id": "K1lJjotRHfjr"
   },
   "source": [
    "### Unsupervised Learning"
   ]
  },
  {
   "cell_type": "markdown",
   "metadata": {
    "id": "pFtJTGAnHViV"
   },
   "source": [
    "#### Clustering\n",
    "\n",
    "6. Utilizzare KMeans per creare dei cluster partendo da un numero pari a 2 fino ad un massimo di 18. Utilizzare le seguenti feature:\n",
    "\n",
    "  * Depriv_idx\n",
    "  * CovidCases_jan_jun_2020 / Population\n",
    "  * MaxHospitalized_jan_jun_2020 / Population\n",
    "  * AvgHospitalized_jan_jun_2020 / Population\n",
    "  * Deceased_jan_jun_2020 / Population\n",
    "  * MaxIntensiveCare_jan_jun_2020 / Population\n",
    "  * AvgIntensiveCare_jan_jun_2020 / Population\n",
    "  * max_pm10_ug/m3_mean_jan_jun_2020\n",
    "  * max_pm10_ug/m3_std_jan_jun_2020\n",
    "  * max_pm10_ug/m3_median_jan_jun_2020\n",
    "  * mean_pm10_ug/m3_mean_jan_jun_2020\n",
    "  * mean_pm10_ug/m3_std_jan_jun_2020\n",
    "  * mean_pm10_ug/m3_median_jan_jun_2020\n",
    "  * min_pm10_ug/m3_mean_jan_jun_2020\n",
    "  * min_pm10_ug/m3_std_jan_jun_2020\n",
    "  * min_pm10_ug/m3_median_jan_jun_2020\n",
    "\n",
    "  6.2 Fare un grafico dell'inerzia all'aumentare del numero di cluster.\n",
    "\n",
    "  6.3 Maps (**Extra**): proiettare i risultati su mappa  utilizzando `lat` e `lng` e aggiungendo la feature `Zone` come categoria.\n",
    "\n"
   ]
  },
  {
   "cell_type": "markdown",
   "metadata": {
    "id": "B5zjXR5HHbhs"
   },
   "source": [
    "#### Clustering con PCA (**extra**)\n",
    "\n",
    "7. Effettua lo stesso studio, ma utilizzando le componenti principali anzichè le feature pure, in modo tale da avere rappresentazioni bi- o tridimensionali contenenti più informazione possibile\n"
   ]
  },
  {
   "cell_type": "markdown",
   "metadata": {
    "id": "-fVVan9wIDcw"
   },
   "source": [
    "### Supervised Learning"
   ]
  },
  {
   "cell_type": "markdown",
   "metadata": {
    "id": "VTF2OraqIGBn"
   },
   "source": [
    "#### Regression\n",
    "\n",
    "8. Utilizzare due metodi per effettuare una regressione della feature `CovidCases_jan_jun_2020 / Population`\n",
    "avendo come input le seguenti colonne:\n",
    "\n",
    "  * lat\n",
    "  * lng\n",
    "  * Surface\n",
    "  * mean_pm10_ug/m3_mean_jan_jun_2020\n",
    "  * mean_pm10_ug/m3_std_jan_jun_2020\n",
    "  * mean_pm10_ug/m3_median_jan_jun_2020\n",
    "\n",
    "  8.1 Verificare quindi l'addestramento.\n",
    "\n",
    "  8.2 **Extra**: \n",
    "  * fare un grafico del test set durante la fase di training\n",
    "  * fare un grafico della predizione del test set"
   ]
  }
 ],
 "metadata": {
  "colab": {
   "collapsed_sections": [],
   "name": "exam.ipynb",
   "provenance": [
    {
     "file_id": "1OKDfkZpWniRJVqCmu7A8QXcGbTOsGySb",
     "timestamp": 1623676325646
    }
   ]
  },
  "kernelspec": {
   "display_name": "Python 3 (ipykernel)",
   "language": "python",
   "name": "python3"
  },
  "language_info": {
   "codemirror_mode": {
    "name": "ipython",
    "version": 3
   },
   "file_extension": ".py",
   "mimetype": "text/x-python",
   "name": "python",
   "nbconvert_exporter": "python",
   "pygments_lexer": "ipython3",
   "version": "3.10.11"
  }
 },
 "nbformat": 4,
 "nbformat_minor": 4
}
